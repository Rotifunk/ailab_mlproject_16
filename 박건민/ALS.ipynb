{
 "cells": [
  {
   "cell_type": "code",
   "execution_count": 22,
   "metadata": {},
   "outputs": [],
   "source": [
    "import os\n",
    "import zipfile\n",
    "import shutil\n",
    "import matplotlib.pyplot as plt\n",
    "import seaborn as sns\n",
    "import pandas as pd\n",
    "import numpy as np"
   ]
  },
  {
   "cell_type": "code",
   "execution_count": 2,
   "metadata": {},
   "outputs": [
    {
     "name": "stdout",
     "output_type": "stream",
     "text": [
      "products\n",
      "orders\n",
      "order_products__train\n",
      "departments\n",
      "aisles\n",
      "order_products__prior\n",
      "sample_submission\n"
     ]
    }
   ],
   "source": [
    "df_list = []\n",
    "\n",
    "# 데이터프레임 생성\n",
    "for dataset in os.listdir('../dataset'):\n",
    "    if dataset.endswith('.csv'):\n",
    "        globals()[dataset[:-4]] = pd.read_csv(f'../dataset/{dataset}')\n",
    "        print(dataset[:-4])\n",
    "        df_list.append(dataset[:-4])"
   ]
  },
  {
   "cell_type": "code",
   "execution_count": 3,
   "metadata": {},
   "outputs": [
    {
     "data": {
      "text/html": [
       "<div>\n",
       "<style scoped>\n",
       "    .dataframe tbody tr th:only-of-type {\n",
       "        vertical-align: middle;\n",
       "    }\n",
       "\n",
       "    .dataframe tbody tr th {\n",
       "        vertical-align: top;\n",
       "    }\n",
       "\n",
       "    .dataframe thead th {\n",
       "        text-align: right;\n",
       "    }\n",
       "</style>\n",
       "<table border=\"1\" class=\"dataframe\">\n",
       "  <thead>\n",
       "    <tr style=\"text-align: right;\">\n",
       "      <th></th>\n",
       "      <th>order_id</th>\n",
       "      <th>product_id</th>\n",
       "      <th>add_to_cart_order</th>\n",
       "      <th>reordered</th>\n",
       "    </tr>\n",
       "  </thead>\n",
       "  <tbody>\n",
       "    <tr>\n",
       "      <th>0</th>\n",
       "      <td>2</td>\n",
       "      <td>33120</td>\n",
       "      <td>1</td>\n",
       "      <td>1</td>\n",
       "    </tr>\n",
       "    <tr>\n",
       "      <th>1</th>\n",
       "      <td>2</td>\n",
       "      <td>28985</td>\n",
       "      <td>2</td>\n",
       "      <td>1</td>\n",
       "    </tr>\n",
       "    <tr>\n",
       "      <th>2</th>\n",
       "      <td>2</td>\n",
       "      <td>9327</td>\n",
       "      <td>3</td>\n",
       "      <td>0</td>\n",
       "    </tr>\n",
       "    <tr>\n",
       "      <th>3</th>\n",
       "      <td>2</td>\n",
       "      <td>45918</td>\n",
       "      <td>4</td>\n",
       "      <td>1</td>\n",
       "    </tr>\n",
       "    <tr>\n",
       "      <th>4</th>\n",
       "      <td>2</td>\n",
       "      <td>30035</td>\n",
       "      <td>5</td>\n",
       "      <td>0</td>\n",
       "    </tr>\n",
       "    <tr>\n",
       "      <th>...</th>\n",
       "      <td>...</td>\n",
       "      <td>...</td>\n",
       "      <td>...</td>\n",
       "      <td>...</td>\n",
       "    </tr>\n",
       "    <tr>\n",
       "      <th>33819101</th>\n",
       "      <td>3421063</td>\n",
       "      <td>14233</td>\n",
       "      <td>3</td>\n",
       "      <td>1</td>\n",
       "    </tr>\n",
       "    <tr>\n",
       "      <th>33819102</th>\n",
       "      <td>3421063</td>\n",
       "      <td>35548</td>\n",
       "      <td>4</td>\n",
       "      <td>1</td>\n",
       "    </tr>\n",
       "    <tr>\n",
       "      <th>33819103</th>\n",
       "      <td>3421070</td>\n",
       "      <td>35951</td>\n",
       "      <td>1</td>\n",
       "      <td>1</td>\n",
       "    </tr>\n",
       "    <tr>\n",
       "      <th>33819104</th>\n",
       "      <td>3421070</td>\n",
       "      <td>16953</td>\n",
       "      <td>2</td>\n",
       "      <td>1</td>\n",
       "    </tr>\n",
       "    <tr>\n",
       "      <th>33819105</th>\n",
       "      <td>3421070</td>\n",
       "      <td>4724</td>\n",
       "      <td>3</td>\n",
       "      <td>1</td>\n",
       "    </tr>\n",
       "  </tbody>\n",
       "</table>\n",
       "<p>33819106 rows × 4 columns</p>\n",
       "</div>"
      ],
      "text/plain": [
       "          order_id  product_id  add_to_cart_order  reordered\n",
       "0                2       33120                  1          1\n",
       "1                2       28985                  2          1\n",
       "2                2        9327                  3          0\n",
       "3                2       45918                  4          1\n",
       "4                2       30035                  5          0\n",
       "...            ...         ...                ...        ...\n",
       "33819101   3421063       14233                  3          1\n",
       "33819102   3421063       35548                  4          1\n",
       "33819103   3421070       35951                  1          1\n",
       "33819104   3421070       16953                  2          1\n",
       "33819105   3421070        4724                  3          1\n",
       "\n",
       "[33819106 rows x 4 columns]"
      ]
     },
     "execution_count": 3,
     "metadata": {},
     "output_type": "execute_result"
    }
   ],
   "source": [
    "orders_products = pd.concat([order_products__prior, order_products__train]).reset_index(drop=True)\n",
    "orders_products"
   ]
  },
  {
   "cell_type": "code",
   "execution_count": 4,
   "metadata": {},
   "outputs": [
    {
     "data": {
      "text/plain": [
       "0.040813108072042636"
      ]
     },
     "execution_count": 4,
     "metadata": {},
     "output_type": "execute_result"
    }
   ],
   "source": [
    "len(orders[orders['eval_set']=='train'])/len(orders[orders['eval_set']=='prior'])"
   ]
  },
  {
   "cell_type": "code",
   "execution_count": 5,
   "metadata": {},
   "outputs": [
    {
     "data": {
      "text/plain": [
       "0.04361037204208511"
      ]
     },
     "execution_count": 5,
     "metadata": {},
     "output_type": "execute_result"
    }
   ],
   "source": [
    "# 재구매에 대한 예측을 하기 위해 user의 order_number가 1인 row는 드랍\n",
    "orders = orders.dropna()\n",
    "len(orders[orders['eval_set']=='train'])/len(orders[orders['eval_set']=='prior'])"
   ]
  },
  {
   "cell_type": "code",
   "execution_count": 6,
   "metadata": {},
   "outputs": [
    {
     "data": {
      "text/html": [
       "<div>\n",
       "<style scoped>\n",
       "    .dataframe tbody tr th:only-of-type {\n",
       "        vertical-align: middle;\n",
       "    }\n",
       "\n",
       "    .dataframe tbody tr th {\n",
       "        vertical-align: top;\n",
       "    }\n",
       "\n",
       "    .dataframe thead th {\n",
       "        text-align: right;\n",
       "    }\n",
       "</style>\n",
       "<table border=\"1\" class=\"dataframe\">\n",
       "  <thead>\n",
       "    <tr style=\"text-align: right;\">\n",
       "      <th></th>\n",
       "      <th>order_id</th>\n",
       "      <th>user_id</th>\n",
       "      <th>eval_set</th>\n",
       "      <th>product_id</th>\n",
       "      <th>reordered</th>\n",
       "    </tr>\n",
       "  </thead>\n",
       "  <tbody>\n",
       "    <tr>\n",
       "      <th>0</th>\n",
       "      <td>2398795</td>\n",
       "      <td>1</td>\n",
       "      <td>prior</td>\n",
       "      <td>196</td>\n",
       "      <td>1</td>\n",
       "    </tr>\n",
       "    <tr>\n",
       "      <th>1</th>\n",
       "      <td>2398795</td>\n",
       "      <td>1</td>\n",
       "      <td>prior</td>\n",
       "      <td>10258</td>\n",
       "      <td>0</td>\n",
       "    </tr>\n",
       "    <tr>\n",
       "      <th>2</th>\n",
       "      <td>2398795</td>\n",
       "      <td>1</td>\n",
       "      <td>prior</td>\n",
       "      <td>12427</td>\n",
       "      <td>1</td>\n",
       "    </tr>\n",
       "    <tr>\n",
       "      <th>3</th>\n",
       "      <td>2398795</td>\n",
       "      <td>1</td>\n",
       "      <td>prior</td>\n",
       "      <td>13176</td>\n",
       "      <td>0</td>\n",
       "    </tr>\n",
       "    <tr>\n",
       "      <th>4</th>\n",
       "      <td>2398795</td>\n",
       "      <td>1</td>\n",
       "      <td>prior</td>\n",
       "      <td>26088</td>\n",
       "      <td>1</td>\n",
       "    </tr>\n",
       "    <tr>\n",
       "      <th>...</th>\n",
       "      <td>...</td>\n",
       "      <td>...</td>\n",
       "      <td>...</td>\n",
       "      <td>...</td>\n",
       "      <td>...</td>\n",
       "    </tr>\n",
       "    <tr>\n",
       "      <th>31741033</th>\n",
       "      <td>272231</td>\n",
       "      <td>206209</td>\n",
       "      <td>train</td>\n",
       "      <td>40603</td>\n",
       "      <td>0</td>\n",
       "    </tr>\n",
       "    <tr>\n",
       "      <th>31741034</th>\n",
       "      <td>272231</td>\n",
       "      <td>206209</td>\n",
       "      <td>train</td>\n",
       "      <td>15655</td>\n",
       "      <td>0</td>\n",
       "    </tr>\n",
       "    <tr>\n",
       "      <th>31741035</th>\n",
       "      <td>272231</td>\n",
       "      <td>206209</td>\n",
       "      <td>train</td>\n",
       "      <td>42606</td>\n",
       "      <td>0</td>\n",
       "    </tr>\n",
       "    <tr>\n",
       "      <th>31741036</th>\n",
       "      <td>272231</td>\n",
       "      <td>206209</td>\n",
       "      <td>train</td>\n",
       "      <td>37966</td>\n",
       "      <td>0</td>\n",
       "    </tr>\n",
       "    <tr>\n",
       "      <th>31741037</th>\n",
       "      <td>272231</td>\n",
       "      <td>206209</td>\n",
       "      <td>train</td>\n",
       "      <td>39216</td>\n",
       "      <td>1</td>\n",
       "    </tr>\n",
       "  </tbody>\n",
       "</table>\n",
       "<p>31741038 rows × 5 columns</p>\n",
       "</div>"
      ],
      "text/plain": [
       "          order_id  user_id eval_set  product_id  reordered\n",
       "0          2398795        1    prior         196          1\n",
       "1          2398795        1    prior       10258          0\n",
       "2          2398795        1    prior       12427          1\n",
       "3          2398795        1    prior       13176          0\n",
       "4          2398795        1    prior       26088          1\n",
       "...            ...      ...      ...         ...        ...\n",
       "31741033    272231   206209    train       40603          0\n",
       "31741034    272231   206209    train       15655          0\n",
       "31741035    272231   206209    train       42606          0\n",
       "31741036    272231   206209    train       37966          0\n",
       "31741037    272231   206209    train       39216          1\n",
       "\n",
       "[31741038 rows x 5 columns]"
      ]
     },
     "execution_count": 6,
     "metadata": {},
     "output_type": "execute_result"
    }
   ],
   "source": [
    "o_train = pd.merge(orders[['order_id', 'user_id', 'eval_set']], orders_products[['order_id', 'product_id', 'reordered']], on='order_id')\n",
    "o_train"
   ]
  },
  {
   "cell_type": "code",
   "execution_count": 7,
   "metadata": {},
   "outputs": [],
   "source": [
    "train_df = o_train[o_train['eval_set']=='prior'].drop(columns=['order_id', 'eval_set'])\n",
    "test_df = o_train[o_train['eval_set']=='train'].drop(columns=['order_id', 'eval_set'])"
   ]
  },
  {
   "cell_type": "code",
   "execution_count": 8,
   "metadata": {},
   "outputs": [
    {
     "data": {
      "text/plain": [
       "<206210x49689 sparse matrix of type '<class 'numpy.float64'>'\n",
       "\twith 12439884 stored elements in Compressed Sparse Row format>"
      ]
     },
     "execution_count": 8,
     "metadata": {},
     "output_type": "execute_result"
    }
   ],
   "source": [
    "from scipy import sparse\n",
    "\n",
    "# 유저가 아이템을 구매한 횟수를 confidence (c_ui)값로 사용하여 CSR 희소 행렬 생성\n",
    "sparse_user_item = sparse.csr_matrix((train_df['reordered'].astype(float),\n",
    "                                      (train_df['user_id'], train_df['product_id'])))\n",
    "sparse_user_item"
   ]
  },
  {
   "cell_type": "code",
   "execution_count": 11,
   "metadata": {},
   "outputs": [],
   "source": [
    "import implicit\n",
    "\n",
    "# ALS 모델 인스턴스 생성\n",
    "model = implicit.als.AlternatingLeastSquares(\n",
    "    factors=128,                 # 잠재 요인의 수\n",
    "    regularization=1e-4,         # 정규화 파라미터\n",
    "    iterations=20,             # 학습 반복 횟수\n",
    "    calculate_training_loss=True,  # 학습 손실 계산 여부\n",
    "    use_gpu=False               # GPU 사용 여부\n",
    ")"
   ]
  },
  {
   "cell_type": "code",
   "execution_count": 12,
   "metadata": {},
   "outputs": [
    {
     "name": "stderr",
     "output_type": "stream",
     "text": [
      "100%|██████████| 20/20 [06:16<00:00, 18.82s/it, loss=0.000935]\n"
     ]
    }
   ],
   "source": [
    "model.fit(sparse_user_item)"
   ]
  },
  {
   "cell_type": "code",
   "execution_count": 13,
   "metadata": {},
   "outputs": [
    {
     "name": "stdout",
     "output_type": "stream",
     "text": [
      "(206210, 128)\n",
      "(49689, 128)\n"
     ]
    }
   ],
   "source": [
    "# User Matrix와 Item Matrix의 크기 확인\n",
    "user_vecs = model.user_factors  # User Matrix\n",
    "item_vecs = model.item_factors  # Item Matrix\n",
    "\n",
    "# 각 행렬의 차원(크기) 출력\n",
    "print(user_vecs.shape)\n",
    "print(item_vecs.shape)"
   ]
  },
  {
   "cell_type": "code",
   "execution_count": 17,
   "metadata": {},
   "outputs": [],
   "source": [
    "# 정밀도와 재현율 계산 함수\n",
    "def get_precision(relevant, recommend):\n",
    "    _intersection = set(recommend).intersection(set(relevant))\n",
    "    return len(_intersection) / len(recommend)\n",
    "\n",
    "def get_recall(relevant, recommend):\n",
    "    _intersection = set(recommend).intersection(set(relevant))\n",
    "    return len(_intersection) / len(relevant)"
   ]
  },
  {
   "cell_type": "code",
   "execution_count": 14,
   "metadata": {},
   "outputs": [
    {
     "name": "stdout",
     "output_type": "stream",
     "text": [
      "[(37710, 0.53154504), (31651, 0.5014758), (6184, 0.4962879), (43154, 0.4077609), (41400, 0.4053325), (22802, 0.39193437), (18023, 0.37370732), (3298, 0.36634302), (45051, 0.3658828), (11759, 0.3430489)]\n",
      "CPU times: user 128 ms, sys: 59.9 ms, total: 188 ms\n",
      "Wall time: 68.1 ms\n"
     ]
    }
   ],
   "source": [
    "%%time\n",
    "# 특정 사용자(여기서는 사용자 0)에게 추천할 아이템 10개 선정 (filter_already_liked_items=False)\n",
    "recommended_items, scores = model.recommend(1, sparse_user_item[1], N=10, filter_already_liked_items=True)\n",
    "\n",
    "# 추천 결과와 점수 출력\n",
    "recommended_results = [(item, score) for item, score in zip(recommended_items, scores)]\n",
    "print(recommended_results)"
   ]
  },
  {
   "cell_type": "code",
   "execution_count": 20,
   "metadata": {},
   "outputs": [
    {
     "data": {
      "text/plain": [
       "0.0"
      ]
     },
     "execution_count": 20,
     "metadata": {},
     "output_type": "execute_result"
    }
   ],
   "source": [
    "get_precision(o_train[(o_train['user_id']==1) & (o_train['eval_set']=='train')]['product_id'], recommended_items)"
   ]
  },
  {
   "cell_type": "code",
   "execution_count": 23,
   "metadata": {},
   "outputs": [
    {
     "name": "stderr",
     "output_type": "stream",
     "text": [
      "100%|██████████| 131209/131209 [04:35<00:00, 475.95it/s]\n"
     ]
    },
    {
     "name": "stdout",
     "output_type": "stream",
     "text": [
      "\n",
      "precision@k: 0.15668756092812372\n",
      "recall@k: 0.1941663110636375\n"
     ]
    }
   ],
   "source": [
    "from tqdm import tqdm\n",
    "\n",
    "# 추천할 아이템의 수를 설정합니다.\n",
    "k = 11\n",
    "\n",
    "# 정밀도, 재현율, NDCG를 저장할 리스트를 초기화합니다.\n",
    "precisions, recalls, ndcgs = [], [], []\n",
    "\n",
    "# Test 데이터셋의 각 사용자에 대해 반복합니다.\n",
    "for user_id, user_df in tqdm(test_df.groupby('user_id')):\n",
    "    # 해당 사용자가 구매한 아이템 목록을 추출합니다.\n",
    "    buy_items = list(user_df['product_id'])\n",
    "\n",
    "    # 추천할 아이템을 결정합니다.\n",
    "    recommended_items, scores = model.recommend(user_id, sparse_user_item[user_id], N=k, filter_already_liked_items=False)\n",
    "    top_k_item =recommended_items\n",
    "\n",
    "    # 정밀도, 재현율, NDCG를 계산하여 리스트에 추가합니다.\n",
    "    precisions.append(get_precision(buy_items, top_k_item))\n",
    "    recalls.append(get_recall(buy_items, top_k_item))\n",
    "\n",
    "# 각 지표의 평균 값을 출력합니다.\n",
    "print(f'\\nprecision@k: {np.mean(precisions)}')\n",
    "print(f'recall@k: {np.mean(recalls)}')\n"
   ]
  },
  {
   "cell_type": "code",
   "execution_count": 25,
   "metadata": {},
   "outputs": [
    {
     "data": {
      "text/plain": [
       "0.17342516713446518"
      ]
     },
     "execution_count": 25,
     "metadata": {},
     "output_type": "execute_result"
    }
   ],
   "source": [
    "F1 = 2 * (np.mean(precisions) * np.mean(recalls)) / (np.mean(precisions) + np.mean(recalls))\n",
    "F1"
   ]
  },
  {
   "cell_type": "code",
   "execution_count": 27,
   "metadata": {},
   "outputs": [
    {
     "data": {
      "text/plain": [
       "array([13176, 24852, 43961, 19348, 36011, 10957,  5479, 25837, 28156,\n",
       "       46676, 23909], dtype=int32)"
      ]
     },
     "execution_count": 27,
     "metadata": {},
     "output_type": "execute_result"
    }
   ],
   "source": [
    "for user_id, user_df in tqdm(test_df.groupby('user_id')):\n",
    "    "
   ]
  },
  {
   "cell_type": "code",
   "execution_count": 31,
   "metadata": {},
   "outputs": [
    {
     "data": {
      "text/html": [
       "<div>\n",
       "<style scoped>\n",
       "    .dataframe tbody tr th:only-of-type {\n",
       "        vertical-align: middle;\n",
       "    }\n",
       "\n",
       "    .dataframe tbody tr th {\n",
       "        vertical-align: top;\n",
       "    }\n",
       "\n",
       "    .dataframe thead th {\n",
       "        text-align: right;\n",
       "    }\n",
       "</style>\n",
       "<table border=\"1\" class=\"dataframe\">\n",
       "  <thead>\n",
       "    <tr style=\"text-align: right;\">\n",
       "      <th></th>\n",
       "      <th>user_id</th>\n",
       "      <th>product_id</th>\n",
       "      <th>reordered</th>\n",
       "    </tr>\n",
       "  </thead>\n",
       "  <tbody>\n",
       "    <tr>\n",
       "      <th>31741030</th>\n",
       "      <td>206209</td>\n",
       "      <td>6846</td>\n",
       "      <td>1</td>\n",
       "    </tr>\n",
       "    <tr>\n",
       "      <th>31741031</th>\n",
       "      <td>206209</td>\n",
       "      <td>9405</td>\n",
       "      <td>1</td>\n",
       "    </tr>\n",
       "    <tr>\n",
       "      <th>31741032</th>\n",
       "      <td>206209</td>\n",
       "      <td>24852</td>\n",
       "      <td>1</td>\n",
       "    </tr>\n",
       "    <tr>\n",
       "      <th>31741033</th>\n",
       "      <td>206209</td>\n",
       "      <td>40603</td>\n",
       "      <td>0</td>\n",
       "    </tr>\n",
       "    <tr>\n",
       "      <th>31741034</th>\n",
       "      <td>206209</td>\n",
       "      <td>15655</td>\n",
       "      <td>0</td>\n",
       "    </tr>\n",
       "    <tr>\n",
       "      <th>31741035</th>\n",
       "      <td>206209</td>\n",
       "      <td>42606</td>\n",
       "      <td>0</td>\n",
       "    </tr>\n",
       "    <tr>\n",
       "      <th>31741036</th>\n",
       "      <td>206209</td>\n",
       "      <td>37966</td>\n",
       "      <td>0</td>\n",
       "    </tr>\n",
       "    <tr>\n",
       "      <th>31741037</th>\n",
       "      <td>206209</td>\n",
       "      <td>39216</td>\n",
       "      <td>1</td>\n",
       "    </tr>\n",
       "  </tbody>\n",
       "</table>\n",
       "</div>"
      ],
      "text/plain": [
       "          user_id  product_id  reordered\n",
       "31741030   206209        6846          1\n",
       "31741031   206209        9405          1\n",
       "31741032   206209       24852          1\n",
       "31741033   206209       40603          0\n",
       "31741034   206209       15655          0\n",
       "31741035   206209       42606          0\n",
       "31741036   206209       37966          0\n",
       "31741037   206209       39216          1"
      ]
     },
     "execution_count": 31,
     "metadata": {},
     "output_type": "execute_result"
    }
   ],
   "source": [
    "user_df"
   ]
  },
  {
   "cell_type": "code",
   "execution_count": null,
   "metadata": {},
   "outputs": [],
   "source": [
    "import lightgbm as lgb\n",
    "from sklearn.model_selection import train_test_split\n",
    "from sklearn.metrics import mean_squared_error, accuracy_score\n",
    "import pandas as pd\n",
    "\n",
    "# Load your dataset\n",
    "# For this example, let's assume you have a CSV file\n",
    "data = pd.read_csv('your_dataset.csv')\n",
    "\n",
    "# Specify the feature columns and the target column\n",
    "features = data.drop(columns=['target'])  # Replace 'target' with your actual target column name\n",
    "target = data['target']\n",
    "\n",
    "# Split the data into training and testing sets\n",
    "X_train, X_test, y_train, y_test = train_test_split(features, target, test_size=0.2, random_state=42)\n",
    "\n",
    "# Create a LightGBM dataset\n",
    "train_data = lgb.Dataset(X_train, label=y_train)\n",
    "test_data = lgb.Dataset(X_test, label=y_test, reference=train_data)\n",
    "\n",
    "# Set the parameters for LightGBM\n",
    "params = {\n",
    "    'boosting_type': 'gbdt',\n",
    "    'objective': 'regression',  # Change to 'binary' or 'multiclass' for classification\n",
    "    'metric': 'rmse',           # Change to 'binary_logloss' or 'multi_logloss' for classification\n",
    "    'num_leaves': 31,\n",
    "    'learning_rate': 0.05,\n",
    "    'feature_fraction': 0.9\n",
    "}\n",
    "\n",
    "# Train the model\n",
    "num_boost_round = 100\n",
    "bst = lgb.train(params, train_data, num_boost_round, valid_sets=[test_data], early_stopping_rounds=10)\n",
    "\n",
    "# Make predictions\n",
    "y_pred = bst.predict(X_test, num_iteration=bst.best_iteration)\n",
    "\n",
    "# Evaluate the model\n",
    "rmse = mean_squared_error(y_test, y_pred, squared=False)\n",
    "print(f'RMSE: {rmse}')"
   ]
  },
  {
   "cell_type": "code",
   "execution_count": 30,
   "metadata": {},
   "outputs": [
    {
     "name": "stdout",
     "output_type": "stream",
     "text": [
      "Collecting lightgbm\n",
      "  Using cached lightgbm-4.3.0.tar.gz (1.7 MB)\n",
      "  Installing build dependencies ... \u001b[?25ldone\n",
      "\u001b[?25h  Getting requirements to build wheel ... \u001b[?25ldone\n",
      "\u001b[?25h  Installing backend dependencies ... \u001b[?25ldone\n",
      "\u001b[?25h  Preparing metadata (pyproject.toml) ... \u001b[?25ldone\n",
      "\u001b[?25hRequirement already satisfied: numpy in /opt/anaconda3/envs/EDA/lib/python3.8/site-packages (from lightgbm) (1.24.4)\n",
      "Requirement already satisfied: scipy in /opt/anaconda3/envs/EDA/lib/python3.8/site-packages (from lightgbm) (1.10.1)\n",
      "Building wheels for collected packages: lightgbm\n",
      "  Building wheel for lightgbm (pyproject.toml) ... \u001b[?25l-^C\n",
      "\u001b[?25canceled\n"
     ]
    }
   ],
   "source": []
  },
  {
   "cell_type": "code",
   "execution_count": null,
   "metadata": {},
   "outputs": [],
   "source": []
  }
 ],
 "metadata": {
  "kernelspec": {
   "display_name": "EDA",
   "language": "python",
   "name": "python3"
  },
  "language_info": {
   "codemirror_mode": {
    "name": "ipython",
    "version": 3
   },
   "file_extension": ".py",
   "mimetype": "text/x-python",
   "name": "python",
   "nbconvert_exporter": "python",
   "pygments_lexer": "ipython3",
   "version": "3.8.19"
  }
 },
 "nbformat": 4,
 "nbformat_minor": 2
}
